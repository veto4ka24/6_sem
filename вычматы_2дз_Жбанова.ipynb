{
  "nbformat": 4,
  "nbformat_minor": 0,
  "metadata": {
    "colab": {
      "provenance": [],
      "authorship_tag": "ABX9TyM8qdQ4F+aXnLm5lGZUcAZX",
      "include_colab_link": true
    },
    "kernelspec": {
      "name": "python3",
      "display_name": "Python 3"
    },
    "language_info": {
      "name": "python"
    }
  },
  "cells": [
    {
      "cell_type": "markdown",
      "metadata": {
        "id": "view-in-github",
        "colab_type": "text"
      },
      "source": [
        "<a href=\"https://colab.research.google.com/github/veto4ka24/6_sem/blob/main/%D0%B2%D1%8B%D1%87%D0%BC%D0%B0%D1%82%D1%8B_2%D0%B4%D0%B7_%D0%96%D0%B1%D0%B0%D0%BD%D0%BE%D0%B2%D0%B0.ipynb\" target=\"_parent\"><img src=\"https://colab.research.google.com/assets/colab-badge.svg\" alt=\"Open In Colab\"/></a>"
      ]
    },
    {
      "cell_type": "code",
      "execution_count": 12,
      "metadata": {
        "id": "5RQag9JrfbKF"
      },
      "outputs": [],
      "source": [
        "import math as mt\n",
        "import matplotlib.pyplot as plt\n",
        "from matplotlib import mlab\n",
        "from mpl_toolkits.mplot3d import Axes3D\n",
        "import scipy as scp\n",
        "from scipy import optimize\n",
        "import numpy as np\n",
        "import numpy.linalg as ln"
      ]
    },
    {
      "cell_type": "markdown",
      "source": [
        "**Вариант 17**\n",
        "(Код частично взят из работы Карцевой Катерины Б06-804 и все равно не работает)\n",
        "\n",
        "В задаче рассматриваем систему гиперболических уравнений \n",
        "\n",
        "$$\\dfrac{\\partial \\textbf{u}}{\\partial t} + \\textbf{A}\\dfrac{\\partial \\textbf{u}}{\\partial x} = \\textbf{b}(x), 0 \\leqslant x \\leqslant 1, 0 \\leqslant t \\leqslant 1, \\textbf{u}(x, 0) = \\left( \\begin{matrix} sin \\pi x \\\\ cos \\pi x \\\\ 1 + sin \\pi x \\end{matrix} \\right)$$\n",
        "$$\\textbf{A} = \\left( \\begin{matrix} \\frac{10}{3} | -\\frac{22}{3}| -20 \\\\ -\\frac{5}{3} | \\frac{11}{3} | 10 \\\\ -4 | 2 | 7  \\end{matrix} \\right), \\textbf{b}(x) = \\left( \\begin{matrix} 0 \\\\ 0 \\\\ 0 \\end{matrix} \\right)$$\n",
        "\n",
        "\n",
        "Сначала решим уравнение методом Лакса (которая для одномерного случая и сетки $x_m = m h, m = 0..M, Mh = 1; t^n = n \\tau, n = 0..N, 1 = N \\tau$ описывается выражением):\n",
        "\n",
        "$$\\dfrac{u_m ^{n + 1} - 0.5(u^n_{m + 1} + u^n_{m - 1})}{\\tau} + a \\dfrac{u^n_{m + 1} - u^n_{m - 1}}{2 h} = 0$$\n"
      ],
      "metadata": {
        "id": "6WL9pw96ha3_"
      }
    },
    {
      "cell_type": "code",
      "source": [
        "ilist_t = mlab.frange(0, 5000, 1)\n",
        "ilist_x = mlab.frange(0, 100, 1)\n",
        "xlist, tlist = np.linspace(0, 1, 101), np.linspace(0, 1, 5001)\n",
        "\n",
        "nt, nx = 5001, 101\n",
        "h, tau = 0.01, 0.0002\n",
        "\n",
        "r1_laks, r2_laks, r3_laks = np.zeros((nt, nx,)), np.zeros((nt, nx,)), np.zeros((nt, nx,))\n",
        "\n",
        "lambda1 = -3\n",
        "labmda2 = 0\n",
        "labmda3 = 17"
      ],
      "metadata": {
        "colab": {
          "base_uri": "https://localhost:8080/",
          "height": 244
        },
        "id": "nrY__wUShaH_",
        "outputId": "72220f84-f13f-4997-8452-69e0329ade46"
      },
      "execution_count": 9,
      "outputs": [
        {
          "output_type": "error",
          "ename": "AttributeError",
          "evalue": "ignored",
          "traceback": [
            "\u001b[0;31m---------------------------------------------------------------------------\u001b[0m",
            "\u001b[0;31mAttributeError\u001b[0m                            Traceback (most recent call last)",
            "\u001b[0;32m<ipython-input-9-aa0ab29725d8>\u001b[0m in \u001b[0;36m<cell line: 1>\u001b[0;34m()\u001b[0m\n\u001b[0;32m----> 1\u001b[0;31m \u001b[0milist_t\u001b[0m \u001b[0;34m=\u001b[0m \u001b[0mmlab\u001b[0m\u001b[0;34m.\u001b[0m\u001b[0mfrange\u001b[0m\u001b[0;34m(\u001b[0m\u001b[0;36m0\u001b[0m\u001b[0;34m,\u001b[0m \u001b[0;36m5000\u001b[0m\u001b[0;34m,\u001b[0m \u001b[0;36m1\u001b[0m\u001b[0;34m)\u001b[0m\u001b[0;34m\u001b[0m\u001b[0;34m\u001b[0m\u001b[0m\n\u001b[0m\u001b[1;32m      2\u001b[0m \u001b[0milist_x\u001b[0m \u001b[0;34m=\u001b[0m \u001b[0mmlab\u001b[0m\u001b[0;34m.\u001b[0m\u001b[0mfrange\u001b[0m\u001b[0;34m(\u001b[0m\u001b[0;36m0\u001b[0m\u001b[0;34m,\u001b[0m \u001b[0;36m100\u001b[0m\u001b[0;34m,\u001b[0m \u001b[0;36m1\u001b[0m\u001b[0;34m)\u001b[0m\u001b[0;34m\u001b[0m\u001b[0;34m\u001b[0m\u001b[0m\n\u001b[1;32m      3\u001b[0m \u001b[0mxlist\u001b[0m\u001b[0;34m,\u001b[0m \u001b[0mtlist\u001b[0m \u001b[0;34m=\u001b[0m \u001b[0mnp\u001b[0m\u001b[0;34m.\u001b[0m\u001b[0mlinspace\u001b[0m\u001b[0;34m(\u001b[0m\u001b[0;36m0\u001b[0m\u001b[0;34m,\u001b[0m \u001b[0;36m1\u001b[0m\u001b[0;34m,\u001b[0m \u001b[0;36m101\u001b[0m\u001b[0;34m)\u001b[0m\u001b[0;34m,\u001b[0m \u001b[0mnp\u001b[0m\u001b[0;34m.\u001b[0m\u001b[0mlinspace\u001b[0m\u001b[0;34m(\u001b[0m\u001b[0;36m0\u001b[0m\u001b[0;34m,\u001b[0m \u001b[0;36m1\u001b[0m\u001b[0;34m,\u001b[0m \u001b[0;36m5001\u001b[0m\u001b[0;34m)\u001b[0m\u001b[0;34m\u001b[0m\u001b[0;34m\u001b[0m\u001b[0m\n\u001b[1;32m      4\u001b[0m \u001b[0;34m\u001b[0m\u001b[0m\n\u001b[1;32m      5\u001b[0m \u001b[0mnt\u001b[0m\u001b[0;34m,\u001b[0m \u001b[0mnx\u001b[0m \u001b[0;34m=\u001b[0m \u001b[0;36m5001\u001b[0m\u001b[0;34m,\u001b[0m \u001b[0;36m101\u001b[0m\u001b[0;34m\u001b[0m\u001b[0;34m\u001b[0m\u001b[0m\n",
            "\u001b[0;31mAttributeError\u001b[0m: module 'matplotlib.mlab' has no attribute 'frange'"
          ]
        }
      ]
    },
    {
      "cell_type": "markdown",
      "source": [
        "![lambdas.jpg](data:image/jpeg;base64,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)"
      ],
      "metadata": {
        "id": "lpIyYL0e0fHw"
      }
    },
    {
      "cell_type": "markdown",
      "source": [
        "Разберемся с собственными числами матрицы $\\textbf{A}$.\n",
        "\n",
        "$$\\Lambda = \\left( \\begin{matrix} -3 | 0 | 0 \\\\ 0 | 0 | 0 \\\\ 0 | 0 | 17 \\end{matrix} \\right)$$\n",
        "\n",
        "Тогда характеристический вид уравнения ($\\textbf{V}$ -- матрица из собственных векторов матрицы A):\n",
        "$$\\dot{w} + \\textbf{Λ} \\dfrac{\\partial w}{\\partial x} = 0, w = \\textbf{V}^{-1} \\textbf{u} $$\n",
        "$$\\textbf{V} = \\left( \\begin{matrix} 0 | c | 0 \\\\ 0 | -5c | 0 \\\\ 0| 2c | 0\\\\ \\end{matrix} \\right)$$\n",
        "$$\\textbf{V}^{-1} = \\dfrac{1}{30} \\left( \\begin{matrix} 0 | 0 | 0 \\\\ \\frac{1}{c} | \\frac{-5}{c} | \\frac{2}{c} \\\\ 0| 0 | 0\\\\ \\end{matrix} \\right)$$\n",
        "\n",
        "Здесь c -- какая-то константа, возьмем ее равной 1.\n",
        "\n",
        "Граничные условия теперь будут иметь вид\n",
        "\n",
        "$$w(x, 0) = \\frac{1}{30} \\left( \\begin{matrix} 0 \\\\ -2 cos \\pi x \\\\ 0 \\end{matrix} \\right) = - \\frac{1}{15} \\left( \\begin{matrix} 0 \\\\ cos \\pi x \\\\ 0 \\end{matrix} \\right)$$"
      ],
      "metadata": {
        "id": "mHe6VcL82Q55"
      }
    },
    {
      "cell_type": "code",
      "source": [
        "A = np.array([[10/3, -22/3, -20], [-5/3, 11/3, 10], [-4, 2, 7]])\n"
      ],
      "metadata": {
        "colab": {
          "base_uri": "https://localhost:8080/"
        },
        "id": "bzKBgmv_00Tt",
        "outputId": "fff53bf5-4d4c-47bf-b980-d450a81ba4b0"
      },
      "execution_count": 8,
      "outputs": [
        {
          "output_type": "stream",
          "name": "stdout",
          "text": [
            "[[-8.50016809e-01  2.78336890e-01  4.47213595e-01]\n",
            " [ 4.25008405e-01 -1.39168445e-01  8.94427191e-01]\n",
            " [ 3.11190103e-01  9.50347684e-01 -2.77555756e-17]]\n",
            "[2.53498659e+01 2.73777422e+00 5.45175329e-16]\n",
            "[[-0.18881745  0.3319229   0.92421597]\n",
            " [-0.964891   -0.23768436 -0.11176541]\n",
            " [-0.18257419  0.91287093 -0.36514837]]\n"
          ]
        }
      ]
    }
  ]
}